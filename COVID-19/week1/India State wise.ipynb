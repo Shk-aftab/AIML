{
 "cells": [
  {
   "cell_type": "code",
   "execution_count": 1,
   "metadata": {},
   "outputs": [],
   "source": [
    "\n",
    "import requests                    # library used to schedule requests \n",
    "from bs4 import BeautifulSoup      # class used to do web scraping\n",
    "import pandas as pd                # library used to create data frames\n",
    "import numpy as np     "
   ]
  },
  {
   "cell_type": "code",
   "execution_count": 2,
   "metadata": {},
   "outputs": [],
   "source": [
    "base_url = \"https://www.mohfw.gov.in/\""
   ]
  },
  {
   "cell_type": "code",
   "execution_count": 3,
   "metadata": {},
   "outputs": [],
   "source": [
    "srNo = []\n",
    "state = []\n",
    "confirmed = []\n",
    "cured = []\n",
    "death = []"
   ]
  },
  {
   "cell_type": "code",
   "execution_count": 4,
   "metadata": {},
   "outputs": [],
   "source": [
    "response = requests.get(base_url)"
   ]
  },
  {
   "cell_type": "code",
   "execution_count": 5,
   "metadata": {},
   "outputs": [],
   "source": [
    "soup = BeautifulSoup(response.text, \"html.parser\")\n",
    "    \n",
    "    # there is only one table present on the page\n",
    "table = soup.find_all(\"table\")[0]\n",
    "    \n",
    "    # extracting all the table rows\n",
    "trs = table.find_all(\"tr\")"
   ]
  },
  {
   "cell_type": "code",
   "execution_count": 6,
   "metadata": {},
   "outputs": [
    {
     "name": "stdout",
     "output_type": "stream",
     "text": [
      "Blank td\n",
      "Blank td\n",
      "Blank td\n",
      "Blank td\n",
      "Blank td\n"
     ]
    }
   ],
   "source": [
    "\n",
    "for tr in trs:\n",
    "    # extracting all the table data and storing into specific lists\n",
    "    tds = tr.find_all(\"td\")\n",
    "    \n",
    "    # using the try block as there are some blank tds which are present \n",
    "    try:\n",
    "        srNo.append(int(tds[0].text.strip()))            # converting the srNO into int\n",
    "        state.append(tds[1].text.strip())                # state name is str\n",
    "        confirmed.append(int(tds[2].text.strip()))       # converting the confirmed cases into int\n",
    "        cured.append(int(tds[3].text.strip()))           # converting the cured cases into int\n",
    "        death.append(int(tds[4].text.strip()))           # converting the death cases into int\n",
    "    except :\n",
    "        print(\"Blank td\")"
   ]
  },
  {
   "cell_type": "code",
   "execution_count": 7,
   "metadata": {},
   "outputs": [],
   "source": [
    "# zipping the lists together to create a tuple\n",
    "zipped = zip(srNo,\n",
    "             state,\n",
    "             confirmed,\n",
    "             cured,\n",
    "             death)"
   ]
  },
  {
   "cell_type": "code",
   "execution_count": 8,
   "metadata": {},
   "outputs": [
    {
     "data": {
      "text/html": [
       "<div>\n",
       "<style scoped>\n",
       "    .dataframe tbody tr th:only-of-type {\n",
       "        vertical-align: middle;\n",
       "    }\n",
       "\n",
       "    .dataframe tbody tr th {\n",
       "        vertical-align: top;\n",
       "    }\n",
       "\n",
       "    .dataframe thead th {\n",
       "        text-align: right;\n",
       "    }\n",
       "</style>\n",
       "<table border=\"1\" class=\"dataframe\">\n",
       "  <thead>\n",
       "    <tr style=\"text-align: right;\">\n",
       "      <th></th>\n",
       "      <th>Sr No</th>\n",
       "      <th>State</th>\n",
       "      <th>Confirmed Cases</th>\n",
       "      <th>Cured</th>\n",
       "      <th>Deaths</th>\n",
       "    </tr>\n",
       "  </thead>\n",
       "  <tbody>\n",
       "    <tr>\n",
       "      <th>0</th>\n",
       "      <td>1</td>\n",
       "      <td>Andaman and Nicobar Islands</td>\n",
       "      <td>33</td>\n",
       "      <td>16</td>\n",
       "      <td>0</td>\n",
       "    </tr>\n",
       "    <tr>\n",
       "      <th>1</th>\n",
       "      <td>2</td>\n",
       "      <td>Andhra Pradesh</td>\n",
       "      <td>1525</td>\n",
       "      <td>441</td>\n",
       "      <td>33</td>\n",
       "    </tr>\n",
       "    <tr>\n",
       "      <th>2</th>\n",
       "      <td>3</td>\n",
       "      <td>Arunachal Pradesh</td>\n",
       "      <td>1</td>\n",
       "      <td>1</td>\n",
       "      <td>0</td>\n",
       "    </tr>\n",
       "    <tr>\n",
       "      <th>3</th>\n",
       "      <td>4</td>\n",
       "      <td>Assam</td>\n",
       "      <td>43</td>\n",
       "      <td>32</td>\n",
       "      <td>1</td>\n",
       "    </tr>\n",
       "    <tr>\n",
       "      <th>4</th>\n",
       "      <td>5</td>\n",
       "      <td>Bihar</td>\n",
       "      <td>471</td>\n",
       "      <td>98</td>\n",
       "      <td>3</td>\n",
       "    </tr>\n",
       "    <tr>\n",
       "      <th>5</th>\n",
       "      <td>6</td>\n",
       "      <td>Chandigarh</td>\n",
       "      <td>88</td>\n",
       "      <td>17</td>\n",
       "      <td>0</td>\n",
       "    </tr>\n",
       "    <tr>\n",
       "      <th>6</th>\n",
       "      <td>7</td>\n",
       "      <td>Chhattisgarh</td>\n",
       "      <td>43</td>\n",
       "      <td>36</td>\n",
       "      <td>0</td>\n",
       "    </tr>\n",
       "    <tr>\n",
       "      <th>7</th>\n",
       "      <td>8</td>\n",
       "      <td>Delhi</td>\n",
       "      <td>3738</td>\n",
       "      <td>1167</td>\n",
       "      <td>61</td>\n",
       "    </tr>\n",
       "    <tr>\n",
       "      <th>8</th>\n",
       "      <td>9</td>\n",
       "      <td>Goa</td>\n",
       "      <td>7</td>\n",
       "      <td>7</td>\n",
       "      <td>0</td>\n",
       "    </tr>\n",
       "    <tr>\n",
       "      <th>9</th>\n",
       "      <td>10</td>\n",
       "      <td>Gujarat</td>\n",
       "      <td>4721</td>\n",
       "      <td>735</td>\n",
       "      <td>236</td>\n",
       "    </tr>\n",
       "  </tbody>\n",
       "</table>\n",
       "</div>"
      ],
      "text/plain": [
       "   Sr No                        State  Confirmed Cases  Cured  Deaths\n",
       "0      1  Andaman and Nicobar Islands               33     16       0\n",
       "1      2               Andhra Pradesh             1525    441      33\n",
       "2      3            Arunachal Pradesh                1      1       0\n",
       "3      4                        Assam               43     32       1\n",
       "4      5                        Bihar              471     98       3\n",
       "5      6                   Chandigarh               88     17       0\n",
       "6      7                 Chhattisgarh               43     36       0\n",
       "7      8                        Delhi             3738   1167      61\n",
       "8      9                          Goa                7      7       0\n",
       "9     10                      Gujarat             4721    735     236"
      ]
     },
     "execution_count": 8,
     "metadata": {},
     "output_type": "execute_result"
    }
   ],
   "source": [
    "\n",
    "# creating data frame by using the zipped data\n",
    "df = pd.DataFrame(list(zipped), columns=[\"Sr No\",\n",
    "                                         \"State\",\n",
    "                                         \"Confirmed Cases\",\n",
    "                                         \"Cured\",\n",
    "                                         \"Deaths\"])\n",
    "df.head(10)"
   ]
  },
  {
   "cell_type": "code",
   "execution_count": 9,
   "metadata": {},
   "outputs": [
    {
     "name": "stdout",
     "output_type": "stream",
     "text": [
      "<class 'pandas.core.frame.DataFrame'>\n",
      "RangeIndex: 32 entries, 0 to 31\n",
      "Data columns (total 5 columns):\n",
      " #   Column           Non-Null Count  Dtype \n",
      "---  ------           --------------  ----- \n",
      " 0   Sr No            32 non-null     int64 \n",
      " 1   State            32 non-null     object\n",
      " 2   Confirmed Cases  32 non-null     int64 \n",
      " 3   Cured            32 non-null     int64 \n",
      " 4   Deaths           32 non-null     int64 \n",
      "dtypes: int64(4), object(1)\n",
      "memory usage: 1.4+ KB\n",
      "None\n"
     ]
    }
   ],
   "source": [
    "# no need to clean the data as it is already present in the required data type\n",
    "print(df.info())"
   ]
  }
 ],
 "metadata": {
  "kernelspec": {
   "display_name": "Python 3",
   "language": "python",
   "name": "python3"
  },
  "language_info": {
   "codemirror_mode": {
    "name": "ipython",
    "version": 3
   },
   "file_extension": ".py",
   "mimetype": "text/x-python",
   "name": "python",
   "nbconvert_exporter": "python",
   "pygments_lexer": "ipython3",
   "version": "3.7.7"
  }
 },
 "nbformat": 4,
 "nbformat_minor": 4
}
